{
 "cells": [
  {
   "cell_type": "code",
   "execution_count": null,
   "metadata": {},
   "outputs": [],
   "source": [
    "# The purpose of this program is to use the random module in Python to create a Magic 8 Ball simulation. \n",
    "\n",
    "# First I am importing the Random module. \n",
    "import random\n",
    "\n",
    "# Declare the variables and the numbers\n",
    "min = 1 \n",
    "max = 9\n",
    "\n",
    "# Variable to keep the loop running\n",
    "shake_again = \"yes\"\n",
    "\n",
    "# Start the loop to run the program\n",
    "while shake_again.lower() == \"yes\":\n",
    "    # Ask the user to type in a question. \n",
    "    question = input(\"Ask a yes or no question: \")\n",
    "\n",
    "    if not question:\n",
    "        print(\"See you later!\")\n",
    "        break\n",
    "   \n",
    "    # Print statement to let users know what is happening\n",
    "    print(\"Cosmic gears turning...\")\n",
    "   \n",
    "    # Declare the Magic 8 Ball variable using random module\n",
    "    magic_value = (random.randint(min,max))\n",
    "    \n",
    " \n",
    "\n",
    "    # Create if statement to ask our question\n",
    "    if magic_value == 1:\n",
    "        print(\"It is certain.\")\n",
    "    elif magic_value == 2:\n",
    "        print(\"Yes definitely.\")\n",
    "    elif magic_value == 3:\n",
    "        print(\"Without a doubt.\")\n",
    "    elif magic_value == 4:\n",
    "        print(\"Ask again later.\")\n",
    "    elif magic_value == 5:\n",
    "        print(\"Concentrate and try again.\")\n",
    "    elif magic_value == 6:\n",
    "        print(\"Reply hazy, try again.\")\n",
    "    elif magic_value == 7:\n",
    "        print(\"Don't count on it.\")\n",
    "    elif magic_value == 8:\n",
    "        print(\"Very doubtful.\")\n",
    "    else:\n",
    "        print(\"My sources say no.\")\n",
    "    \n",
    "\n",
    "       # Setting a variable to determine if the user wants to shake the 8 ball again. \n",
    "    shake_again = input(\"Ask again? (yes/no): \")\n",
    "\n",
    "    if shake_again != \"yes\":\n",
    "        print(\"See you later!\")\n",
    "\n"
   ]
  }
 ],
 "metadata": {
  "kernelspec": {
   "display_name": "base",
   "language": "python",
   "name": "python3"
  },
  "language_info": {
   "codemirror_mode": {
    "name": "ipython",
    "version": 3
   },
   "file_extension": ".py",
   "mimetype": "text/x-python",
   "name": "python",
   "nbconvert_exporter": "python",
   "pygments_lexer": "ipython3",
   "version": "3.11.5"
  }
 },
 "nbformat": 4,
 "nbformat_minor": 2
}
